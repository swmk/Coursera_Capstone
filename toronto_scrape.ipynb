{
 "cells": [
  {
   "cell_type": "markdown",
   "metadata": {},
   "source": [
    "### Scrape Wikipedia Page to retrieve neighborhoods in Toronto"
   ]
  },
  {
   "cell_type": "markdown",
   "metadata": {},
   "source": [
    "This notebook retrieves PostalCode, Borough and Neighborhood from this [Wikipedia page](https://en.wikipedia.org/wiki/List_of_postal_codes_of_Canada:_M) and creates a pandas DataFrame."
   ]
  },
  {
   "cell_type": "code",
   "execution_count": 2,
   "metadata": {},
   "outputs": [],
   "source": [
    "import pandas as pd\n",
    "import requests\n",
    "from bs4 import BeautifulSoup"
   ]
  },
  {
   "cell_type": "markdown",
   "metadata": {},
   "source": [
    "Sample DataFrame as below:\n",
    "![Sample DataFrame](https://github.com/swmk/Coursera_Capstone/raw/master/sample_df_wiki.png)"
   ]
  },
  {
   "cell_type": "code",
   "execution_count": 3,
   "metadata": {},
   "outputs": [],
   "source": [
    "# URL to Wikipedia page\n",
    "wiki_url = \"https://en.wikipedia.org/wiki/List_of_postal_codes_of_Canada:_M\""
   ]
  },
  {
   "cell_type": "markdown",
   "metadata": {},
   "source": [
    "#### Scrape the content from the Wikipage."
   ]
  },
  {
   "cell_type": "code",
   "execution_count": 4,
   "metadata": {},
   "outputs": [],
   "source": [
    "# Sends a request to Wiki page and retrieves html source\n",
    "site_text = requests.get(wiki_url).text\n",
    "\n",
    "# Creates BeautifulSoup instance\n",
    "soup = BeautifulSoup(site_text, 'lxml')\n",
    "\n",
    "# Retrieves html table containing the postal codes\n",
    "postal_table = soup.find('table', {'class': 'wikitable sortable'})\n",
    "\n",
    "# Retrieves all content rows without header row\n",
    "all_trs = postal_table.find_all('tr')[1:]"
   ]
  },
  {
   "cell_type": "markdown",
   "metadata": {},
   "source": [
    "#### Transform content into pandas DataFrame\n",
    "Items with \"Not assigned\" borough are ignored."
   ]
  },
  {
   "cell_type": "code",
   "execution_count": 5,
   "metadata": {},
   "outputs": [],
   "source": [
    "# Variable to holds rows data for DataFrame\n",
    "df_cols = ['PostalCode', 'Borough', 'Neighborhood']\n",
    "df = pd.DataFrame(columns=df_cols)"
   ]
  },
  {
   "cell_type": "code",
   "execution_count": 6,
   "metadata": {},
   "outputs": [],
   "source": [
    "# Extract all html rows.\n",
    "#  From each row, extract the cell text and convert them to a dictionary.\n",
    "#   Add to the dataframe if borough cell is not Not assigned. \n",
    "for tr in all_trs:\n",
    "    tds = tr.findAll('td')\n",
    "    # Extract a row as a dictionary\n",
    "    df_row = {col: val.text.rstrip() for col, val in zip(df_cols,tds)}\n",
    "    # Add the row to the DataFrame\n",
    "    if df_row['Borough'] != 'Not assigned':\n",
    "        df = df.append(df_row, ignore_index=True)"
   ]
  },
  {
   "cell_type": "markdown",
   "metadata": {},
   "source": [
    "#### Clean and prepare data.\n",
    "* Replace \"Not assigned\" Neighborhood with value from Borough.\n",
    "* Multiple Neighborhood values of the same PostalCode are merged to one row in the dataframe."
   ]
  },
  {
   "cell_type": "code",
   "execution_count": 7,
   "metadata": {},
   "outputs": [],
   "source": [
    "# Clean and prep the data frame\n",
    "\n",
    "# Replace 'Not assigned' neighborhood with borough value.\n",
    "df['Neighborhood'].replace(to_replace='Not assigned', value=df['Borough'], inplace=True)\n",
    "\n",
    "# Merge two cells of the same Postal Code.\n",
    "df = df.groupby(['PostalCode','Borough'])['Neighborhood'].apply(lambda x: ', '.join(x)).reset_index()"
   ]
  },
  {
   "cell_type": "code",
   "execution_count": 8,
   "metadata": {},
   "outputs": [
    {
     "data": {
      "text/plain": [
       "(103, 3)"
      ]
     },
     "execution_count": 8,
     "metadata": {},
     "output_type": "execute_result"
    }
   ],
   "source": [
    "df.shape"
   ]
  }
 ],
 "metadata": {
  "kernelspec": {
   "display_name": "Python 3",
   "language": "python",
   "name": "python3"
  },
  "language_info": {
   "codemirror_mode": {
    "name": "ipython",
    "version": 3
   },
   "file_extension": ".py",
   "mimetype": "text/x-python",
   "name": "python",
   "nbconvert_exporter": "python",
   "pygments_lexer": "ipython3",
   "version": "3.7.3"
  }
 },
 "nbformat": 4,
 "nbformat_minor": 2
}
